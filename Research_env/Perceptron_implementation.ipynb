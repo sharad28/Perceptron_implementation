{
 "cells": [
  {
   "cell_type": "code",
   "execution_count": 2,
   "id": "6a56c8d6",
   "metadata": {},
   "outputs": [
    {
     "name": "stdout",
     "output_type": "stream",
     "text": [
      "Collecting joblib\n",
      "  Using cached joblib-1.1.0-py2.py3-none-any.whl (306 kB)\n",
      "Installing collected packages: joblib\n",
      "Successfully installed joblib-1.1.0\n",
      "Note: you may need to restart the kernel to use updated packages.\n"
     ]
    }
   ],
   "source": [
    "# pip install joblib\n"
   ]
  },
  {
   "cell_type": "code",
   "execution_count": 4,
   "id": "31b36937",
   "metadata": {},
   "outputs": [],
   "source": [
    "import pandas as pd\n",
    "import numpy as np\n",
    "import matplotlib.pyplot as plt\n",
    "import joblib\n",
    "plt.style.use('fivethirtyeight')"
   ]
  },
  {
   "cell_type": "code",
   "execution_count": 20,
   "id": "0395fee1",
   "metadata": {},
   "outputs": [],
   "source": [
    "class Perceptron:\n",
    "    def __init__(self,eta: float=None, epochs: int=None):\n",
    "        self.weights = np.random.randn(3)*1e-4\n",
    "        self.eta=eta #learning rate\n",
    "        self.epochs = epochs # number of iteration\n",
    "        \n",
    "    def fit(self, X, y):\n",
    "        self.X = X\n",
    "        self.y = y\n",
    "        \n",
    "        X_with_bias=np.c_[self.X,-np.ones(((len(self.X)),1))]\n",
    "        print(X_with_bias)\n",
    "#         self.z=_z_cal()"
   ]
  },
  {
   "cell_type": "code",
   "execution_count": 21,
   "id": "6e03d92f",
   "metadata": {},
   "outputs": [],
   "source": [
    "obj= Perceptron(.2,10)"
   ]
  },
  {
   "cell_type": "code",
   "execution_count": 22,
   "id": "0d5bf4b7",
   "metadata": {},
   "outputs": [
    {
     "name": "stdout",
     "output_type": "stream",
     "text": [
      "[[ 1.  1. -1.]\n",
      " [ 0.  1. -1.]\n",
      " [ 1.  0. -1.]]\n"
     ]
    }
   ],
   "source": [
    "X=[[1,1],[0,1],[1,0]]\n",
    "y=[[1],[1],[1]]\n",
    "obj.fit(X,y)"
   ]
  },
  {
   "cell_type": "code",
   "execution_count": null,
   "id": "b4eb42a2",
   "metadata": {},
   "outputs": [],
   "source": []
  }
 ],
 "metadata": {
  "kernelspec": {
   "display_name": "Python 3 (ipykernel)",
   "language": "python",
   "name": "python3"
  },
  "language_info": {
   "codemirror_mode": {
    "name": "ipython",
    "version": 3
   },
   "file_extension": ".py",
   "mimetype": "text/x-python",
   "name": "python",
   "nbconvert_exporter": "python",
   "pygments_lexer": "ipython3",
   "version": "3.7.11"
  }
 },
 "nbformat": 4,
 "nbformat_minor": 5
}
