{
 "cells": [
  {
   "cell_type": "code",
   "execution_count": null,
   "id": "6a56c8d6",
   "metadata": {},
   "outputs": [],
   "source": [
    "# pip install joblib\n"
   ]
  },
  {
   "cell_type": "code",
   "execution_count": 22,
   "id": "31b36937",
   "metadata": {},
   "outputs": [],
   "source": [
    "import pandas as pd\n",
    "import numpy as np\n",
    "import matplotlib.pyplot as plt\n",
    "import joblib\n",
    "plt.style.use('fivethirtyeight')"
   ]
  },
  {
   "cell_type": "code",
   "execution_count": 38,
   "id": "0395fee1",
   "metadata": {},
   "outputs": [],
   "source": [
    "class Perceptron:\n",
    "    def __init__(self,eta: float=None, epochs: int=None):\n",
    "        self.weights = np.random.randn(3)*1e-4\n",
    "        self.eta=eta #learning rate\n",
    "        self.epochs = epochs # number of iteration\n",
    "    def _z_outcome(self, inputs, weights):\n",
    "        return np.dot(inputs,weights)\n",
    "    def activation_function(self,z):\n",
    "        return np.where(z>0,1,0)\n",
    "    def fit(self, X, y):\n",
    "        self.X = X\n",
    "        self.y = y\n",
    "        \n",
    "        X_with_bias=np.c_[self.X,-np.ones(((len(self.X)),1))]\n",
    "        print(X_with_bias)\n",
    "#         self.z=_z_cal()\n",
    "        for epoch in range(self.epochs):\n",
    "            print(\"__\"*10)\n",
    "            print(f'for epoch: {epoch+1}')\n",
    "            z = self._z_outcome(X_with_bias,self.weights)\n",
    "            y_hat = self.activation_function(z)\n",
    "            \n",
    "            print(f'predicted value after forward pass: \\n{y_hat}')\n",
    "            \n",
    "            self.error = self.y-y_hat\n",
    "            print(f'error : \\n{self.error}')\n",
    "            \n",
    "            self.weights = self.weights + self.eta*np.dot(X_with_bias.T,self.error)\n",
    "            print(f'Updated weights after epoch : {epoch +1}/{self.epochs} \\n{self.weights}')\n",
    "    def predict(self,X):\n",
    "        X_with_bais = np.c_[X,-np.ones(((len(X)),1))]\n",
    "        z=self._z_outcome(X_with_bais,self.weights)\n",
    "        return self.activation_function(z)\n",
    "        "
   ]
  },
  {
   "cell_type": "code",
   "execution_count": 39,
   "id": "6e03d92f",
   "metadata": {},
   "outputs": [],
   "source": [
    "obj= Perceptron(eta=.2,epochs=10)"
   ]
  },
  {
   "cell_type": "code",
   "execution_count": 40,
   "id": "5fcc1a6f",
   "metadata": {},
   "outputs": [
    {
     "data": {
      "text/html": [
       "<div>\n",
       "<style scoped>\n",
       "    .dataframe tbody tr th:only-of-type {\n",
       "        vertical-align: middle;\n",
       "    }\n",
       "\n",
       "    .dataframe tbody tr th {\n",
       "        vertical-align: top;\n",
       "    }\n",
       "\n",
       "    .dataframe thead th {\n",
       "        text-align: right;\n",
       "    }\n",
       "</style>\n",
       "<table border=\"1\" class=\"dataframe\">\n",
       "  <thead>\n",
       "    <tr style=\"text-align: right;\">\n",
       "      <th></th>\n",
       "      <th>x1</th>\n",
       "      <th>x2</th>\n",
       "      <th>y</th>\n",
       "    </tr>\n",
       "  </thead>\n",
       "  <tbody>\n",
       "    <tr>\n",
       "      <th>0</th>\n",
       "      <td>0</td>\n",
       "      <td>0</td>\n",
       "      <td>0</td>\n",
       "    </tr>\n",
       "    <tr>\n",
       "      <th>1</th>\n",
       "      <td>0</td>\n",
       "      <td>1</td>\n",
       "      <td>1</td>\n",
       "    </tr>\n",
       "    <tr>\n",
       "      <th>2</th>\n",
       "      <td>1</td>\n",
       "      <td>0</td>\n",
       "      <td>1</td>\n",
       "    </tr>\n",
       "    <tr>\n",
       "      <th>3</th>\n",
       "      <td>1</td>\n",
       "      <td>1</td>\n",
       "      <td>1</td>\n",
       "    </tr>\n",
       "  </tbody>\n",
       "</table>\n",
       "</div>"
      ],
      "text/plain": [
       "   x1  x2  y\n",
       "0   0   0  0\n",
       "1   0   1  1\n",
       "2   1   0  1\n",
       "3   1   1  1"
      ]
     },
     "execution_count": 40,
     "metadata": {},
     "output_type": "execute_result"
    }
   ],
   "source": [
    "OR ={\n",
    "    \"x1\":[0,0,1,1],\n",
    "    \"x2\":[0,1,0,1],\n",
    "    \"y\":[0,1,1,1]\n",
    "}\n",
    "df_or = pd.DataFrame(OR)\n",
    "df_or"
   ]
  },
  {
   "cell_type": "code",
   "execution_count": 41,
   "id": "de04891d",
   "metadata": {},
   "outputs": [],
   "source": [
    "def prepare_data(df, target_col='y'):\n",
    "    X = df.drop(target_col,axis=1)\n",
    "    y = df[target_col]\n",
    "    return X, y"
   ]
  },
  {
   "cell_type": "code",
   "execution_count": 42,
   "id": "26b60b2d",
   "metadata": {},
   "outputs": [
    {
     "name": "stdout",
     "output_type": "stream",
     "text": [
      "[[ 0.  0. -1.]\n",
      " [ 0.  1. -1.]\n",
      " [ 1.  0. -1.]\n",
      " [ 1.  1. -1.]]\n",
      "____________________\n",
      "for epoch: 1\n",
      "predicted value after forward pass: \n",
      "[1 1 1 1]\n",
      "error : \n",
      "0   -1\n",
      "1    0\n",
      "2    0\n",
      "3    0\n",
      "Name: y, dtype: int64\n",
      "Updated weights after epoch : 1/10 \n",
      "[8.60534355e-06 2.97208740e-05 9.99039700e-02]\n",
      "____________________\n",
      "for epoch: 2\n",
      "predicted value after forward pass: \n",
      "[0 0 0 0]\n",
      "error : \n",
      "0    0\n",
      "1    1\n",
      "2    1\n",
      "3    1\n",
      "Name: y, dtype: int64\n",
      "Updated weights after epoch : 2/10 \n",
      "[ 0.20000861  0.20002972 -0.20009603]\n",
      "____________________\n",
      "for epoch: 3\n",
      "predicted value after forward pass: \n",
      "[1 1 1 1]\n",
      "error : \n",
      "0   -1\n",
      "1    0\n",
      "2    0\n",
      "3    0\n",
      "Name: y, dtype: int64\n",
      "Updated weights after epoch : 3/10 \n",
      "[ 0.20000861  0.20002972 -0.10009603]\n",
      "____________________\n",
      "for epoch: 4\n",
      "predicted value after forward pass: \n",
      "[1 1 1 1]\n",
      "error : \n",
      "0   -1\n",
      "1    0\n",
      "2    0\n",
      "3    0\n",
      "Name: y, dtype: int64\n",
      "Updated weights after epoch : 4/10 \n",
      "[ 2.00008605e-01  2.00029721e-01 -9.60300089e-05]\n",
      "____________________\n",
      "for epoch: 5\n",
      "predicted value after forward pass: \n",
      "[1 1 1 1]\n",
      "error : \n",
      "0   -1\n",
      "1    0\n",
      "2    0\n",
      "3    0\n",
      "Name: y, dtype: int64\n",
      "Updated weights after epoch : 5/10 \n",
      "[0.20000861 0.20002972 0.09990397]\n",
      "____________________\n",
      "for epoch: 6\n",
      "predicted value after forward pass: \n",
      "[0 1 1 1]\n",
      "error : \n",
      "0    0\n",
      "1    0\n",
      "2    0\n",
      "3    0\n",
      "Name: y, dtype: int64\n",
      "Updated weights after epoch : 6/10 \n",
      "[0.20000861 0.20002972 0.09990397]\n",
      "____________________\n",
      "for epoch: 7\n",
      "predicted value after forward pass: \n",
      "[0 1 1 1]\n",
      "error : \n",
      "0    0\n",
      "1    0\n",
      "2    0\n",
      "3    0\n",
      "Name: y, dtype: int64\n",
      "Updated weights after epoch : 7/10 \n",
      "[0.20000861 0.20002972 0.09990397]\n",
      "____________________\n",
      "for epoch: 8\n",
      "predicted value after forward pass: \n",
      "[0 1 1 1]\n",
      "error : \n",
      "0    0\n",
      "1    0\n",
      "2    0\n",
      "3    0\n",
      "Name: y, dtype: int64\n",
      "Updated weights after epoch : 8/10 \n",
      "[0.20000861 0.20002972 0.09990397]\n",
      "____________________\n",
      "for epoch: 9\n",
      "predicted value after forward pass: \n",
      "[0 1 1 1]\n",
      "error : \n",
      "0    0\n",
      "1    0\n",
      "2    0\n",
      "3    0\n",
      "Name: y, dtype: int64\n",
      "Updated weights after epoch : 9/10 \n",
      "[0.20000861 0.20002972 0.09990397]\n",
      "____________________\n",
      "for epoch: 10\n",
      "predicted value after forward pass: \n",
      "[0 1 1 1]\n",
      "error : \n",
      "0    0\n",
      "1    0\n",
      "2    0\n",
      "3    0\n",
      "Name: y, dtype: int64\n",
      "Updated weights after epoch : 10/10 \n",
      "[0.20000861 0.20002972 0.09990397]\n"
     ]
    }
   ],
   "source": [
    "X,y = prepare_data(df_or)\n",
    "ETA= 0.1\n",
    "EPOCHS = 10\n",
    "model_or = Perceptron(eta=ETA, epochs=EPOCHS)\n",
    "model_or.fit(X,y)"
   ]
  },
  {
   "cell_type": "code",
   "execution_count": 43,
   "id": "d466b98e",
   "metadata": {},
   "outputs": [
    {
     "data": {
      "text/plain": [
       "array([0, 1, 1, 1])"
      ]
     },
     "execution_count": 43,
     "metadata": {},
     "output_type": "execute_result"
    }
   ],
   "source": [
    "model_or.predict(X)"
   ]
  },
  {
   "cell_type": "code",
   "execution_count": 44,
   "id": "df48cdd9",
   "metadata": {},
   "outputs": [
    {
     "data": {
      "text/plain": [
       "0    0\n",
       "1    0\n",
       "2    0\n",
       "3    0\n",
       "Name: y, dtype: int64"
      ]
     },
     "execution_count": 44,
     "metadata": {},
     "output_type": "execute_result"
    }
   ],
   "source": [
    "model_or.error"
   ]
  },
  {
   "cell_type": "code",
   "execution_count": null,
   "id": "8cfe5676",
   "metadata": {},
   "outputs": [],
   "source": []
  }
 ],
 "metadata": {
  "kernelspec": {
   "display_name": "Python 3 (ipykernel)",
   "language": "python",
   "name": "python3"
  },
  "language_info": {
   "codemirror_mode": {
    "name": "ipython",
    "version": 3
   },
   "file_extension": ".py",
   "mimetype": "text/x-python",
   "name": "python",
   "nbconvert_exporter": "python",
   "pygments_lexer": "ipython3",
   "version": "3.7.11"
  }
 },
 "nbformat": 4,
 "nbformat_minor": 5
}
